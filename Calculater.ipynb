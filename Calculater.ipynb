{
 "cells": [
  {
   "cell_type": "code",
   "execution_count": 3,
   "metadata": {},
   "outputs": [
    {
     "name": "stdout",
     "output_type": "stream",
     "text": [
      "Enter the value of X: 4\n",
      "Enter the value of y: 5\n",
      "press 1 for add, press 2 for sub, press 3 for mult, press 4 for div: 6\n",
      "invalid number\n",
      "press 1 for add, press 2 for sub, press 3 for mult, press 4 for div: 6\n",
      "invalid number\n",
      "press 1 for add, press 2 for sub, press 3 for mult, press 4 for div: 6\n",
      "invalid number\n",
      "press 1 for add, press 2 for sub, press 3 for mult, press 4 for div: 3\n",
      "20\n"
     ]
    }
   ],
   "source": [
    "x=int(input(\"Enter the value of X: \"))\n",
    "y=int(input(\"Enter the value of y: \"))\n",
    "\n",
    "function=int(input(\"press 1 for add, press 2 for sub, press 3 for mult, press 4 for div: \"))\n",
    "\n",
    "choices=[1,2,3,4]\n",
    "\n",
    "def add(x,y):\n",
    "    return print(x+y)\n",
    "\n",
    "def sub(x,y):\n",
    "    return print(x-y)\n",
    "\n",
    "def mult(x,y):\n",
    "    return print(x*y)\n",
    "\n",
    "def div(x,y):\n",
    "    return print(x/y)\n",
    "    \n",
    "if function not in choices:\n",
    "    for i in range(1,4):\n",
    "        if function not in choices:\n",
    "            print(\"invalid number\")\n",
    "            function=int(input(\"press 1 for add, press 2 for sub, press 3 for mult, press 4 for div: \"))\n",
    "            if i==3 and function not in choices:\n",
    "                print(\"You have reached limit of invalid numbers\")\n",
    "        else:\n",
    "            break\n",
    "    \n",
    "if function==1:\n",
    "    add(x,y)\n",
    "    \n",
    "elif function==2:\n",
    "    sub(x,y)\n",
    "    \n",
    "elif function==3:\n",
    "    mult(x,y)\n",
    "    \n",
    "elif function==4:\n",
    "    div(x,y)\n",
    "    \n",
    "\n",
    "    "
   ]
  },
  {
   "cell_type": "code",
   "execution_count": null,
   "metadata": {},
   "outputs": [],
   "source": []
  }
 ],
 "metadata": {
  "kernelspec": {
   "display_name": "Python 3",
   "language": "python",
   "name": "python3"
  },
  "language_info": {
   "codemirror_mode": {
    "name": "ipython",
    "version": 3
   },
   "file_extension": ".py",
   "mimetype": "text/x-python",
   "name": "python",
   "nbconvert_exporter": "python",
   "pygments_lexer": "ipython3",
   "version": "3.7.4"
  }
 },
 "nbformat": 4,
 "nbformat_minor": 2
}
